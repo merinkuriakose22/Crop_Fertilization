#importing necessary libraries
import numpy as np
import pandas as pd
import matplotlib.pyplot as plt
import seaborn as sns


#Loading the dataset
crop =pd.read_csv("dataset/Crop_recommendation.csv")


crop.head()


crop.tail()


crop.shape


crop.info()


#to check missing values
crop.isnull().sum()


#to check duplicate values
crop.duplicated().sum()


#to check statistics of the dataset
crop.describe()


crop.columns#to check target feature distribution
crop['label'].value_counts()
